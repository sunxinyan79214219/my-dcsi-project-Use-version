{
 "cells": [
  {
   "cell_type": "markdown",
   "id": "c8bfa679-a5ac-4265-9e96-07062b3d261a",
   "metadata": {},
   "source": [
    "# Project\n",
    "## Link to github repository\n",
    "https://github.com/sunxinyan79214219/my-dcsi-project-Use-version/blob/main/new%20use%20homework%20project%201.ipynb\n",
    "\n",
    "\n",
    "Predicting Newsletter Subscriptions: A Deep Dive into Player Behaviors and Demographics Within a Minecraft Server Ecosystem\n"
   ]
  },
  {
   "cell_type": "markdown",
   "id": "c5906d81-ba8c-498a-bf86-d40123ce2cb3",
   "metadata": {},
   "source": [
    "### Introduction"
   ]
  },
  {
   "cell_type": "markdown",
   "id": "76e9eb9d-322c-4621-8c37-9f236c60dd29",
   "metadata": {},
   "source": [
    "## Background\n"
   ]
  },
  {
   "cell_type": "markdown",
   "id": "837908c4-056b-4bc2-b5e4-5fa639354055",
   "metadata": {},
   "source": [
    "In the dynamic landscape of the video game industry, deciphering player behavior stands as a cornerstone for crafting immersive experiences and nurturing enduring player relationships. Game - related newsletters serve as a vital conduit for developers to stay connected with their audience, delivering a mix of updates, promotions, and community spotlights. Yet, the decision to subscribe to these newsletters varies among players. Pinpointing the characteristics and behaviors most strongly linked to subscription empowers developers to tailor communication strategies and enhance outreach efforts.\n",
    "This report leverages player data from a Minecraft server environment. It delves into patterns governing newsletter subscriptions, drawing on variables like gameplay habits (such as the frequency of sessions), demographic factors (including age), and experience levels."
   ]
  },
  {
   "cell_type": "markdown",
   "id": "4e07d5b4-95e1-429f-9a79-91b95e01dc60",
   "metadata": {},
   "source": [
    "Data Description\n",
    "The dataset includes anonymized player-level information from a Minecraft multiplayer server, combining gameplay activity, demographic data, and newsletter subscription status."
   ]
  },
  {
   "cell_type": "markdown",
   "id": "e74cdb4b-c8cc-44e2-a3ab-033df8dbbd77",
   "metadata": {},
   "source": [
    "Question:For the Question I choose, I choose Question1, What player characteristics and behaviours are most predictive of subscribing to a game-related newsletter, \n",
    "and how do these features differ between various player types?"
   ]
  },
  {
   "cell_type": "markdown",
   "id": "4b1f0ca5-b053-4778-a987-526a08075620",
   "metadata": {},
   "source": [
    "Data Description"
   ]
  },
  {
   "cell_type": "markdown",
   "id": "85a9a835-83ee-40bf-a73d-3a04ad8936d7",
   "metadata": {},
   "source": [
    "Number of observations (players): 196\n",
    "\n",
    "Number of variables: Initially 9, refined to 4 after data cleaning\n",
    "\n",
    "Source: Gathered via user accounts and server logs\n",
    "\n",
    "Data collection method: Derived from gameplay logs and demographic information submitted by users\n",
    "\n",
    "Response variable: subscribe – indicates if a player subscribed to the newsletter (taking values of TRUE or FALSE)"
   ]
  },
  {
   "cell_type": "markdown",
   "id": "c4fc9af6-8516-4308-a514-75a21abf84a5",
   "metadata": {},
   "source": [
    "# players.csv: A list of all unique players, including data about each player.\n",
    "\n",
    "- **Variable summary**:\n",
    "| Column Name     | Description                                | Type     |\n",
    "|------------------|--------------------------------------------|----------|\n",
    "| `hashedEmail`    | Unique ID for each player                  | Categorical   |\n",
    "| `subscribe`      | Whether the player subscribed to the newsletter (True or False) | Logical  |\n",
    "| `experience`     | Player experience level (e.g., Pro, Amateur) | Categorical   |\n",
    "| `gender`         | Player's gender                            | Categorical   |\n",
    "| `Age`            | Player's age                               | Numeric  |\n",
    "| `played_hours`   | Total hours the player spent in the game   | Numetric   |\n",
    "| `name`           | Player’s in-game name (not used here)      | Categorical   |\n",
    "| `hashedEmail`        | Unique ID to match with `players.csv`       | Categorical   |\n",
    "| `original_start_time`| Start time of the session (Unix timestamp) | Numeric   |\n",
    "| `original_end_time`  | End time of the session (Unix timestamp)   | Numeric   |"
   ]
  },
  {
   "cell_type": "markdown",
   "id": "b19512a2-29d9-48a8-9caa-c8d217588f34",
   "metadata": {},
   "source": [
    "# session.csv: A list of individual play sessions by each player, including data about the session.\n",
    "\n",
    "- **Variable summary**:\n",
    "| Column Name     | Description                                | Type     |\n",
    "|------------------|--------------------------------------------|----------|\n",
    "| `hashedEmail`    | Unique player identifier (matches players.csv)               | Categorical   |\n",
    "| `start_time`      | Session start time (DD/MM/YYYY HH:MM) | Datetime  |\n",
    "| `end_time`     | Session end time (DD/MM/YYYY HH:MM) | Datetime   |\n",
    "| `original_start_time`         | Session start time (Unix timestamp in scientific notation)                           | Numeric   |\n",
    "| `original_end_time`            |Session end time (Unix timestamp in scientific notation)                              | Numeric  |\n",
    "\n",
    "\n",
    "\n",
    "\n",
    "\n",
    "\n",
    "\n",
    "\n",
    "\n",
    "\n",
    "\n",
    "\n"
   ]
  },
  {
   "cell_type": "code",
   "execution_count": null,
   "id": "c3f1f7ce-e236-451b-a508-b80d98aeddd7",
   "metadata": {},
   "outputs": [],
   "source": []
  }
 ],
 "metadata": {
  "kernelspec": {
   "display_name": "R",
   "language": "R",
   "name": "ir"
  },
  "language_info": {
   "codemirror_mode": "r",
   "file_extension": ".r",
   "mimetype": "text/x-r-source",
   "name": "R",
   "pygments_lexer": "r",
   "version": "4.3.3"
  }
 },
 "nbformat": 4,
 "nbformat_minor": 5
}
