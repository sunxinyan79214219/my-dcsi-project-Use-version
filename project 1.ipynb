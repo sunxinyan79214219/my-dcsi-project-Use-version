{
 "cells": [
  {
   "cell_type": "markdown",
   "id": "c8bfa679-a5ac-4265-9e96-07062b3d261a",
   "metadata": {},
   "source": [
    "Predicting Newsletter Subscriptions: A Deep Dive into Player Behaviors and Demographics Within a Minecraft Server Ecosystem\n"
   ]
  },
  {
   "cell_type": "markdown",
   "id": "c5906d81-ba8c-498a-bf86-d40123ce2cb3",
   "metadata": {},
   "source": [
    "Introduction"
   ]
  },
  {
   "cell_type": "markdown",
   "id": "76e9eb9d-322c-4621-8c37-9f236c60dd29",
   "metadata": {},
   "source": [
    "Background\n"
   ]
  },
  {
   "cell_type": "code",
   "execution_count": null,
   "id": "fbd428ab-0615-4aa9-854c-2e2fff846848",
   "metadata": {},
   "outputs": [],
   "source": []
  }
 ],
 "metadata": {
  "kernelspec": {
   "display_name": "R",
   "language": "R",
   "name": "ir"
  },
  "language_info": {
   "codemirror_mode": "r",
   "file_extension": ".r",
   "mimetype": "text/x-r-source",
   "name": "R",
   "pygments_lexer": "r",
   "version": "4.3.3"
  }
 },
 "nbformat": 4,
 "nbformat_minor": 5
}
